{
 "cells": [
  {
   "cell_type": "code",
   "execution_count": 1,
   "id": "fa3bb30c",
   "metadata": {},
   "outputs": [],
   "source": [
    "lst= [[1,2,3,4],\n",
    "      [5,6,7,8],\n",
    "      [7,8,9,0]]"
   ]
  },
  {
   "cell_type": "code",
   "execution_count": 2,
   "id": "a626b3bb",
   "metadata": {},
   "outputs": [
    {
     "data": {
      "text/plain": [
       "[[1, 2, 3, 4], [5, 6, 7, 8], [7, 8, 9, 0]]"
      ]
     },
     "execution_count": 2,
     "metadata": {},
     "output_type": "execute_result"
    }
   ],
   "source": [
    "lst"
   ]
  },
  {
   "cell_type": "code",
   "execution_count": 3,
   "id": "38750898",
   "metadata": {},
   "outputs": [
    {
     "data": {
      "text/plain": [
       "[1, 2, 3, 4]"
      ]
     },
     "execution_count": 3,
     "metadata": {},
     "output_type": "execute_result"
    }
   ],
   "source": [
    "lst[0]"
   ]
  },
  {
   "cell_type": "code",
   "execution_count": 4,
   "id": "4eb92cd4",
   "metadata": {},
   "outputs": [
    {
     "data": {
      "text/plain": [
       "2"
      ]
     },
     "execution_count": 4,
     "metadata": {},
     "output_type": "execute_result"
    }
   ],
   "source": [
    "lst[0][1]"
   ]
  },
  {
   "cell_type": "code",
   "execution_count": 5,
   "id": "aa565cc9",
   "metadata": {},
   "outputs": [
    {
     "data": {
      "text/plain": [
       "7"
      ]
     },
     "execution_count": 5,
     "metadata": {},
     "output_type": "execute_result"
    }
   ],
   "source": [
    "lst[1][2]"
   ]
  },
  {
   "cell_type": "code",
   "execution_count": 6,
   "id": "d59844da",
   "metadata": {},
   "outputs": [
    {
     "data": {
      "text/plain": [
       "[[5, 6, 7, 8], [7, 8, 9, 0]]"
      ]
     },
     "execution_count": 6,
     "metadata": {},
     "output_type": "execute_result"
    }
   ],
   "source": [
    "#except first row\n",
    "lst[1:]"
   ]
  },
  {
   "cell_type": "code",
   "execution_count": 7,
   "id": "9ca5beb6",
   "metadata": {},
   "outputs": [
    {
     "data": {
      "text/plain": [
       "[[7, 8, 9, 0]]"
      ]
     },
     "execution_count": 7,
     "metadata": {},
     "output_type": "execute_result"
    }
   ],
   "source": [
    "lst[1:][1:]"
   ]
  },
  {
   "cell_type": "code",
   "execution_count": 8,
   "id": "2162066d",
   "metadata": {},
   "outputs": [],
   "source": [
    "lst1 = [[[1,0,0],[2,0,0],[3,0,0]],\n",
    "        [[4,0,0],[5,0,0],[6,0,0]],\n",
    "        [[7,0,0],[8,0,0],[9,0,0]]]"
   ]
  },
  {
   "cell_type": "code",
   "execution_count": 9,
   "id": "f51f8788",
   "metadata": {},
   "outputs": [
    {
     "data": {
      "text/plain": [
       "[[[1, 0, 0], [2, 0, 0], [3, 0, 0]],\n",
       " [[4, 0, 0], [5, 0, 0], [6, 0, 0]],\n",
       " [[7, 0, 0], [8, 0, 0], [9, 0, 0]]]"
      ]
     },
     "execution_count": 9,
     "metadata": {},
     "output_type": "execute_result"
    }
   ],
   "source": [
    "lst1"
   ]
  },
  {
   "cell_type": "code",
   "execution_count": 10,
   "id": "5d698ec8",
   "metadata": {},
   "outputs": [
    {
     "data": {
      "text/plain": [
       "[1, 0, 0]"
      ]
     },
     "execution_count": 10,
     "metadata": {},
     "output_type": "execute_result"
    }
   ],
   "source": [
    "lst1[0][0]"
   ]
  },
  {
   "cell_type": "code",
   "execution_count": 12,
   "id": "4da67610",
   "metadata": {},
   "outputs": [
    {
     "data": {
      "text/plain": [
       "9"
      ]
     },
     "execution_count": 12,
     "metadata": {},
     "output_type": "execute_result"
    }
   ],
   "source": [
    "lst1[2][2][0]"
   ]
  },
  {
   "cell_type": "code",
   "execution_count": 13,
   "id": "13983378",
   "metadata": {},
   "outputs": [],
   "source": [
    "#        Roll No, Name, Eng, Hin, Pun, Sci, Math\n",
    "\n",
    "record = [[1, \"Shivam\" , 75,  85, 75 , 86 , 86],\n",
    "          [2, \"Divya\"  , 85,  85, 76 , 96 , 82],\n",
    "          [3, \"Devansh\", 46,  65, 67 , 46 , 96],\n",
    "          [4, \"Dev\"    , 43,  55, 68 , 36 , 66]]"
   ]
  },
  {
   "cell_type": "code",
   "execution_count": 14,
   "id": "ccd6bf33",
   "metadata": {},
   "outputs": [
    {
     "data": {
      "text/plain": [
       "[[1, 'Shivam', 75, 85, 75, 86, 86],\n",
       " [2, 'Divya', 85, 85, 76, 96, 82],\n",
       " [3, 'Devansh', 46, 65, 67, 46, 96],\n",
       " [4, 'Dev', 43, 55, 68, 36, 66]]"
      ]
     },
     "execution_count": 14,
     "metadata": {},
     "output_type": "execute_result"
    }
   ],
   "source": [
    "record"
   ]
  },
  {
   "cell_type": "code",
   "execution_count": 19,
   "id": "3fe5ada8",
   "metadata": {},
   "outputs": [
    {
     "name": "stdout",
     "output_type": "stream",
     "text": [
      "[1, 'Shivam', 75, 85, 75, 86, 86]\n",
      "[2, 'Divya', 85, 85, 76, 96, 82]\n",
      "[3, 'Devansh', 46, 65, 67, 46, 96]\n",
      "[4, 'Dev', 43, 55, 68, 36, 66]\n"
     ]
    }
   ],
   "source": [
    "for i in record:\n",
    "    print(i)"
   ]
  },
  {
   "cell_type": "code",
   "execution_count": 20,
   "id": "f5a69d49",
   "metadata": {},
   "outputs": [
    {
     "name": "stdout",
     "output_type": "stream",
     "text": [
      "1\n",
      "2\n",
      "3\n",
      "4\n"
     ]
    }
   ],
   "source": [
    "for i in record:\n",
    "    print(i[0])"
   ]
  },
  {
   "cell_type": "code",
   "execution_count": 21,
   "id": "4477980c",
   "metadata": {},
   "outputs": [
    {
     "name": "stdout",
     "output_type": "stream",
     "text": [
      "Enter the roll number: 2\n",
      "***********\n",
      "Name:  Divya\n",
      "Eng:  85\n",
      "Hin:  85\n",
      "Pun:  76\n",
      "Sci:  96\n",
      "Math:  82\n",
      "Average:  84.8\n"
     ]
    }
   ],
   "source": [
    "\n",
    "roll_no = int(input(\"Enter the roll number: \"))\n",
    "\n",
    "for i in record:\n",
    "  if (i[0] == roll_no):\n",
    "    print(\"***********\")\n",
    "    print(\"Name: \",i[1])\n",
    "    print(\"Eng: \",i[2])\n",
    "    print(\"Hin: \",i[3])\n",
    "    print(\"Pun: \",i[4])\n",
    "    print(\"Sci: \",i[5])\n",
    "    print(\"Math: \",i[6])\n",
    "\n",
    "    avg = ((i[2] + i[3] + i[4] + i[5] + i[6])/500)*100\n",
    "\n",
    "    print(\"Average: \", avg)"
   ]
  },
  {
   "cell_type": "code",
   "execution_count": 22,
   "id": "561de2d7",
   "metadata": {},
   "outputs": [],
   "source": [
    "data = []\n",
    "\n",
    "for i in record:\n",
    "  \n",
    "  avg = (i[2] + i[3] + i[4] + i[5] + i[6])/5\n",
    "\n",
    "  if (avg > 90 and avg < 100):\n",
    "    grade = \"A+\"\n",
    "  if (avg > 80 and avg < 90):\n",
    "    grade = \"A\"\n",
    "  if (avg > 70 and avg < 80):\n",
    "    grade = \"B+\"\n",
    "  if (avg > 60 and avg < 70):\n",
    "    grade = \"B\"\n",
    "  if (avg > 50 and avg < 60):\n",
    "    grade = \"C\"\n",
    "  if (avg < 50 ):\n",
    "    grade = \"F\"\n",
    "\n",
    "  data.append([i[0],i[1], avg, grade])"
   ]
  },
  {
   "cell_type": "code",
   "execution_count": 23,
   "id": "6f003cdc",
   "metadata": {},
   "outputs": [
    {
     "data": {
      "text/plain": [
       "[[1, 'Shivam', 81.4, 'A'],\n",
       " [2, 'Divya', 84.8, 'A'],\n",
       " [3, 'Devansh', 64.0, 'B'],\n",
       " [4, 'Dev', 53.6, 'C']]"
      ]
     },
     "execution_count": 23,
     "metadata": {},
     "output_type": "execute_result"
    }
   ],
   "source": [
    "data"
   ]
  },
  {
   "cell_type": "code",
   "execution_count": 24,
   "id": "fd4d2b55",
   "metadata": {},
   "outputs": [
    {
     "data": {
      "text/plain": [
       "[[1, 'Shivam', 75, 85, 75, 86, 86],\n",
       " [2, 'Divya', 85, 85, 76, 96, 82],\n",
       " [3, 'Devansh', 46, 65, 67, 46, 96],\n",
       " [4, 'Dev', 43, 55, 68, 36, 66]]"
      ]
     },
     "execution_count": 24,
     "metadata": {},
     "output_type": "execute_result"
    }
   ],
   "source": [
    "record"
   ]
  },
  {
   "cell_type": "code",
   "execution_count": 25,
   "id": "2c2bef9d",
   "metadata": {},
   "outputs": [
    {
     "name": "stdout",
     "output_type": "stream",
     "text": [
      "81.4\n",
      "84.8\n",
      "64.0\n",
      "53.6\n"
     ]
    }
   ],
   "source": [
    "for i in record:\n",
    "    print(sum(i[2:])/len(i[2:]))"
   ]
  },
  {
   "cell_type": "code",
   "execution_count": null,
   "id": "9463b168",
   "metadata": {},
   "outputs": [],
   "source": []
  }
 ],
 "metadata": {
  "kernelspec": {
   "display_name": "Python 3",
   "language": "python",
   "name": "python3"
  },
  "language_info": {
   "codemirror_mode": {
    "name": "ipython",
    "version": 3
   },
   "file_extension": ".py",
   "mimetype": "text/x-python",
   "name": "python",
   "nbconvert_exporter": "python",
   "pygments_lexer": "ipython3",
   "version": "3.8.8"
  }
 },
 "nbformat": 4,
 "nbformat_minor": 5
}
