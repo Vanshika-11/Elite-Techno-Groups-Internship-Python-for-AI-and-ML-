{
 "cells": [
  {
   "cell_type": "code",
   "execution_count": 1,
   "id": "bddc272a",
   "metadata": {},
   "outputs": [],
   "source": [
    "dct ={'Name' : 'Vanshika',\n",
    "      'Age' : 20,\n",
    "      'Reg no' : '19BAI10054'}\n"
   ]
  },
  {
   "cell_type": "code",
   "execution_count": 2,
   "id": "fc9a44f5",
   "metadata": {},
   "outputs": [
    {
     "data": {
      "text/plain": [
       "{'Name': 'Vanshika', 'Age': 20, 'Reg no': '19BAI10054'}"
      ]
     },
     "execution_count": 2,
     "metadata": {},
     "output_type": "execute_result"
    }
   ],
   "source": [
    "dct"
   ]
  },
  {
   "cell_type": "code",
   "execution_count": 4,
   "id": "e620cbcb",
   "metadata": {},
   "outputs": [
    {
     "data": {
      "text/plain": [
       "'Vanshika'"
      ]
     },
     "execution_count": 4,
     "metadata": {},
     "output_type": "execute_result"
    }
   ],
   "source": [
    "dct['Name']"
   ]
  },
  {
   "cell_type": "code",
   "execution_count": 5,
   "id": "c8ce465d",
   "metadata": {},
   "outputs": [
    {
     "data": {
      "text/plain": [
       "dict_keys(['Name', 'Age', 'Reg no'])"
      ]
     },
     "execution_count": 5,
     "metadata": {},
     "output_type": "execute_result"
    }
   ],
   "source": [
    "dct.keys()"
   ]
  },
  {
   "cell_type": "code",
   "execution_count": 6,
   "id": "fe33d879",
   "metadata": {},
   "outputs": [
    {
     "data": {
      "text/plain": [
       "dict_values(['Vanshika', 20, '19BAI10054'])"
      ]
     },
     "execution_count": 6,
     "metadata": {},
     "output_type": "execute_result"
    }
   ],
   "source": [
    "dct.values()"
   ]
  },
  {
   "cell_type": "code",
   "execution_count": 10,
   "id": "a4194f70",
   "metadata": {},
   "outputs": [],
   "source": [
    "data= { 1 : {'Name' : 'Vanshika','Age' : 20,'Reg no' : '19BAI10054'},\n",
    "        2 : {'Name' : 'Jigyasa','Age' : 21,'Reg no' : '19BAI10022'},\n",
    "        3 : {'Name' : 'Rachita','Age' : 21,'Reg no' : '19BCE10274'}\n",
    "      \n",
    "      }"
   ]
  },
  {
   "cell_type": "code",
   "execution_count": 11,
   "id": "d9bf7822",
   "metadata": {},
   "outputs": [
    {
     "data": {
      "text/plain": [
       "{1: {'Name': 'Vanshika', 'Age': 20, 'Reg no': '19BAI10054'},\n",
       " 2: {'Name': 'Jigyasa', 'Age': 21, 'Reg no': '19BAI10022'},\n",
       " 3: {'Name': 'Rachita', 'Age': 21, 'Reg no': '19BCE10274'}}"
      ]
     },
     "execution_count": 11,
     "metadata": {},
     "output_type": "execute_result"
    }
   ],
   "source": [
    "data"
   ]
  },
  {
   "cell_type": "code",
   "execution_count": 12,
   "id": "3f56a0db",
   "metadata": {},
   "outputs": [
    {
     "data": {
      "text/plain": [
       "dict_keys([1, 2, 3])"
      ]
     },
     "execution_count": 12,
     "metadata": {},
     "output_type": "execute_result"
    }
   ],
   "source": [
    "data.keys()"
   ]
  },
  {
   "cell_type": "code",
   "execution_count": 13,
   "id": "c5f423b4",
   "metadata": {},
   "outputs": [
    {
     "data": {
      "text/plain": [
       "dict_values([{'Name': 'Vanshika', 'Age': 20, 'Reg no': '19BAI10054'}, {'Name': 'Jigyasa', 'Age': 21, 'Reg no': '19BAI10022'}, {'Name': 'Rachita', 'Age': 21, 'Reg no': '19BCE10274'}])"
      ]
     },
     "execution_count": 13,
     "metadata": {},
     "output_type": "execute_result"
    }
   ],
   "source": [
    "data.values()"
   ]
  },
  {
   "cell_type": "code",
   "execution_count": 15,
   "id": "31b430df",
   "metadata": {},
   "outputs": [
    {
     "data": {
      "text/plain": [
       "{'Name': 'Jigyasa', 'Age': 21, 'Reg no': '19BAI10022'}"
      ]
     },
     "execution_count": 15,
     "metadata": {},
     "output_type": "execute_result"
    }
   ],
   "source": [
    "data[2]"
   ]
  },
  {
   "cell_type": "code",
   "execution_count": 16,
   "id": "a71becf9",
   "metadata": {},
   "outputs": [
    {
     "data": {
      "text/plain": [
       "20"
      ]
     },
     "execution_count": 16,
     "metadata": {},
     "output_type": "execute_result"
    }
   ],
   "source": [
    "data[1]['Age']"
   ]
  },
  {
   "cell_type": "code",
   "execution_count": 23,
   "id": "c1d9e01d",
   "metadata": {},
   "outputs": [],
   "source": [
    "data[2]['age']=22     \n",
    "data[2]['marks']=22 \n",
    "\n",
    "#adding new value"
   ]
  },
  {
   "cell_type": "code",
   "execution_count": 24,
   "id": "1e7c58a8",
   "metadata": {},
   "outputs": [
    {
     "data": {
      "text/plain": [
       "{1: {'Name': 'Vanshika', 'Age': 20, 'Reg no': '19BAI10054'},\n",
       " 2: {'Name': 'Jigyasa',\n",
       "  'Age': 22,\n",
       "  'Reg no': '19BAI10022',\n",
       "  'age': 22,\n",
       "  'marks': 22},\n",
       " 3: {'Name': 'Rachita', 'Age': 21, 'Reg no': '19BCE10274'}}"
      ]
     },
     "execution_count": 24,
     "metadata": {},
     "output_type": "execute_result"
    }
   ],
   "source": [
    "data"
   ]
  },
  {
   "cell_type": "code",
   "execution_count": 19,
   "id": "31af23e6",
   "metadata": {},
   "outputs": [],
   "source": [
    "data[2]['Age']=22          #updating a value"
   ]
  },
  {
   "cell_type": "code",
   "execution_count": 20,
   "id": "90e8114e",
   "metadata": {},
   "outputs": [
    {
     "data": {
      "text/plain": [
       "{1: {'Name': 'Vanshika', 'Age': 20, 'Reg no': '19BAI10054'},\n",
       " 2: {'Name': 'Jigyasa', 'Age': 22, 'Reg no': '19BAI10022', 'age': 22},\n",
       " 3: {'Name': 'Rachita', 'Age': 21, 'Reg no': '19BCE10274'}}"
      ]
     },
     "execution_count": 20,
     "metadata": {},
     "output_type": "execute_result"
    }
   ],
   "source": [
    "data"
   ]
  },
  {
   "cell_type": "code",
   "execution_count": 25,
   "id": "f1942055",
   "metadata": {},
   "outputs": [],
   "source": [
    "del data[2]"
   ]
  },
  {
   "cell_type": "code",
   "execution_count": 26,
   "id": "713b8cc7",
   "metadata": {},
   "outputs": [
    {
     "data": {
      "text/plain": [
       "{1: {'Name': 'Vanshika', 'Age': 20, 'Reg no': '19BAI10054'},\n",
       " 3: {'Name': 'Rachita', 'Age': 21, 'Reg no': '19BCE10274'}}"
      ]
     },
     "execution_count": 26,
     "metadata": {},
     "output_type": "execute_result"
    }
   ],
   "source": [
    "data"
   ]
  },
  {
   "cell_type": "code",
   "execution_count": null,
   "id": "debadd53",
   "metadata": {},
   "outputs": [],
   "source": []
  }
 ],
 "metadata": {
  "kernelspec": {
   "display_name": "Python 3",
   "language": "python",
   "name": "python3"
  },
  "language_info": {
   "codemirror_mode": {
    "name": "ipython",
    "version": 3
   },
   "file_extension": ".py",
   "mimetype": "text/x-python",
   "name": "python",
   "nbconvert_exporter": "python",
   "pygments_lexer": "ipython3",
   "version": "3.8.8"
  }
 },
 "nbformat": 4,
 "nbformat_minor": 5
}
