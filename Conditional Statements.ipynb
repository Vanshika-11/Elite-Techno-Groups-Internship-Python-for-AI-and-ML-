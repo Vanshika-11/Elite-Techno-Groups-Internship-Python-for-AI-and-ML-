{
 "cells": [
  {
   "cell_type": "markdown",
   "id": "30e39377",
   "metadata": {},
   "source": [
    "## IF ELSE"
   ]
  },
  {
   "cell_type": "code",
   "execution_count": 6,
   "id": "b1e8ad22",
   "metadata": {},
   "outputs": [
    {
     "name": "stdout",
     "output_type": "stream",
     "text": [
      "Enter your age: 12\n",
      "You can not vote!\n"
     ]
    }
   ],
   "source": [
    "age = int(input(\"Enter your age: \"))\n",
    "if (age < 0):\n",
    "    print('Please enter a valid age!')\n",
    "\n",
    "elif (age >= 18 and age <= 120):\n",
    "    print('You can vote!')  \n",
    "    \n",
    "else:\n",
    "    print('You can not vote!')"
   ]
  },
  {
   "cell_type": "code",
   "execution_count": 7,
   "id": "659b7894",
   "metadata": {},
   "outputs": [],
   "source": [
    "drinks = True\n",
    "maggie = False\n",
    "coffee = True\n",
    "water  = False\n",
    "burger = True"
   ]
  },
  {
   "cell_type": "code",
   "execution_count": 8,
   "id": "c56ecc94",
   "metadata": {},
   "outputs": [
    {
     "name": "stdout",
     "output_type": "stream",
     "text": [
      "Enjoy your drinks\n",
      "Enjoy your Coffee\n",
      "Enjoy your Burger\n",
      "**********************\n",
      "You've ordered 3 items!\n",
      "**********************\n"
     ]
    }
   ],
   "source": [
    "orders = 0\n",
    "\n",
    "if (drinks == True):\n",
    "    print('Enjoy your drinks')\n",
    "    orders += 1\n",
    "\n",
    "if (maggie == True):\n",
    "    print('Enjoy your Maggie')\n",
    "    orders += 1\n",
    "    \n",
    "if (coffee == True):\n",
    "    print('Enjoy your Coffee')\n",
    "    orders += 1\n",
    "    \n",
    "if (water == True):\n",
    "    print('Enjoy your water')\n",
    "    orders += 1\n",
    "    \n",
    "if (burger == True):\n",
    "    print('Enjoy your Burger')\n",
    "    orders += 1\n",
    "    \n",
    "print(\"**********************\")\n",
    "print(\"You've ordered\",orders,\"items!\")\n",
    "print(\"**********************\")"
   ]
  },
  {
   "cell_type": "code",
   "execution_count": null,
   "id": "4fdf1bbf",
   "metadata": {},
   "outputs": [],
   "source": []
  }
 ],
 "metadata": {
  "kernelspec": {
   "display_name": "Python 3",
   "language": "python",
   "name": "python3"
  },
  "language_info": {
   "codemirror_mode": {
    "name": "ipython",
    "version": 3
   },
   "file_extension": ".py",
   "mimetype": "text/x-python",
   "name": "python",
   "nbconvert_exporter": "python",
   "pygments_lexer": "ipython3",
   "version": "3.8.8"
  }
 },
 "nbformat": 4,
 "nbformat_minor": 5
}
