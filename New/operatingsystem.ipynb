{
 "cells": [
  {
   "cell_type": "code",
   "execution_count": 1,
   "id": "ae8664ff",
   "metadata": {},
   "outputs": [],
   "source": [
    "import os"
   ]
  },
  {
   "cell_type": "code",
   "execution_count": 2,
   "id": "c58b33aa",
   "metadata": {},
   "outputs": [
    {
     "data": {
      "text/plain": [
       "['DirEntry',\n",
       " 'F_OK',\n",
       " 'MutableMapping',\n",
       " 'O_APPEND',\n",
       " 'O_BINARY',\n",
       " 'O_CREAT',\n",
       " 'O_EXCL',\n",
       " 'O_NOINHERIT',\n",
       " 'O_RANDOM',\n",
       " 'O_RDONLY',\n",
       " 'O_RDWR',\n",
       " 'O_SEQUENTIAL',\n",
       " 'O_SHORT_LIVED',\n",
       " 'O_TEMPORARY',\n",
       " 'O_TEXT',\n",
       " 'O_TRUNC',\n",
       " 'O_WRONLY',\n",
       " 'P_DETACH',\n",
       " 'P_NOWAIT',\n",
       " 'P_NOWAITO',\n",
       " 'P_OVERLAY',\n",
       " 'P_WAIT',\n",
       " 'PathLike',\n",
       " 'R_OK',\n",
       " 'SEEK_CUR',\n",
       " 'SEEK_END',\n",
       " 'SEEK_SET',\n",
       " 'TMP_MAX',\n",
       " 'W_OK',\n",
       " 'X_OK',\n",
       " '_AddedDllDirectory',\n",
       " '_Environ',\n",
       " '__all__',\n",
       " '__builtins__',\n",
       " '__cached__',\n",
       " '__doc__',\n",
       " '__file__',\n",
       " '__loader__',\n",
       " '__name__',\n",
       " '__package__',\n",
       " '__spec__',\n",
       " '_check_methods',\n",
       " '_execvpe',\n",
       " '_exists',\n",
       " '_exit',\n",
       " '_fspath',\n",
       " '_get_exports_list',\n",
       " '_putenv',\n",
       " '_unsetenv',\n",
       " '_wrap_close',\n",
       " 'abc',\n",
       " 'abort',\n",
       " 'access',\n",
       " 'add_dll_directory',\n",
       " 'altsep',\n",
       " 'chdir',\n",
       " 'chmod',\n",
       " 'close',\n",
       " 'closerange',\n",
       " 'cpu_count',\n",
       " 'curdir',\n",
       " 'defpath',\n",
       " 'device_encoding',\n",
       " 'devnull',\n",
       " 'dup',\n",
       " 'dup2',\n",
       " 'environ',\n",
       " 'error',\n",
       " 'execl',\n",
       " 'execle',\n",
       " 'execlp',\n",
       " 'execlpe',\n",
       " 'execv',\n",
       " 'execve',\n",
       " 'execvp',\n",
       " 'execvpe',\n",
       " 'extsep',\n",
       " 'fdopen',\n",
       " 'fsdecode',\n",
       " 'fsencode',\n",
       " 'fspath',\n",
       " 'fstat',\n",
       " 'fsync',\n",
       " 'ftruncate',\n",
       " 'get_exec_path',\n",
       " 'get_handle_inheritable',\n",
       " 'get_inheritable',\n",
       " 'get_terminal_size',\n",
       " 'getcwd',\n",
       " 'getcwdb',\n",
       " 'getenv',\n",
       " 'getlogin',\n",
       " 'getpid',\n",
       " 'getppid',\n",
       " 'isatty',\n",
       " 'kill',\n",
       " 'linesep',\n",
       " 'link',\n",
       " 'listdir',\n",
       " 'lseek',\n",
       " 'lstat',\n",
       " 'makedirs',\n",
       " 'mkdir',\n",
       " 'name',\n",
       " 'open',\n",
       " 'pardir',\n",
       " 'path',\n",
       " 'pathsep',\n",
       " 'pipe',\n",
       " 'popen',\n",
       " 'putenv',\n",
       " 'read',\n",
       " 'readlink',\n",
       " 'remove',\n",
       " 'removedirs',\n",
       " 'rename',\n",
       " 'renames',\n",
       " 'replace',\n",
       " 'rmdir',\n",
       " 'scandir',\n",
       " 'sep',\n",
       " 'set_handle_inheritable',\n",
       " 'set_inheritable',\n",
       " 'spawnl',\n",
       " 'spawnle',\n",
       " 'spawnv',\n",
       " 'spawnve',\n",
       " 'st',\n",
       " 'startfile',\n",
       " 'stat',\n",
       " 'stat_result',\n",
       " 'statvfs_result',\n",
       " 'strerror',\n",
       " 'supports_bytes_environ',\n",
       " 'supports_dir_fd',\n",
       " 'supports_effective_ids',\n",
       " 'supports_fd',\n",
       " 'supports_follow_symlinks',\n",
       " 'symlink',\n",
       " 'sys',\n",
       " 'system',\n",
       " 'terminal_size',\n",
       " 'times',\n",
       " 'times_result',\n",
       " 'truncate',\n",
       " 'umask',\n",
       " 'uname_result',\n",
       " 'unlink',\n",
       " 'urandom',\n",
       " 'utime',\n",
       " 'waitpid',\n",
       " 'walk',\n",
       " 'write']"
      ]
     },
     "execution_count": 2,
     "metadata": {},
     "output_type": "execute_result"
    }
   ],
   "source": [
    "dir(os)           #functions available"
   ]
  },
  {
   "cell_type": "code",
   "execution_count": 7,
   "id": "bf4722b7",
   "metadata": {},
   "outputs": [
    {
     "data": {
      "text/plain": [
       "['$RECYCLE.BIN',\n",
       " '.ipynb_checkpoints',\n",
       " 'adobe reader',\n",
       " 'Config.Msi',\n",
       " 'DSA SELF PACED COURSE GFG',\n",
       " 'DumpStack.log',\n",
       " 'DumpStack.log.tmp',\n",
       " 'ETG_INTERNSHIP',\n",
       " 'Git-2.32.0-64-bit.exe',\n",
       " 'my phone',\n",
       " 'node js new',\n",
       " 'Notepad++',\n",
       " 'Office Lens',\n",
       " 'pagefile.sys',\n",
       " 'PYTHON LIBS',\n",
       " 'Python-3.7',\n",
       " 'ScreenRec_app',\n",
       " 'semester-2',\n",
       " 'semester-3',\n",
       " 'semester-4',\n",
       " 'software',\n",
       " 'Sublime Text 3',\n",
       " 'System Volume Information',\n",
       " 'TableauPublicDesktop-64bit-2021-2-1.exe',\n",
       " 'themes',\n",
       " 'var',\n",
       " 'Windows10Upgrade']"
      ]
     },
     "execution_count": 7,
     "metadata": {},
     "output_type": "execute_result"
    }
   ],
   "source": [
    "dirs = os.listdir('/')         #list all the directories in the folder \n",
    "dirs"
   ]
  },
  {
   "cell_type": "code",
   "execution_count": 8,
   "id": "3fbfe979",
   "metadata": {},
   "outputs": [
    {
     "data": {
      "text/plain": [
       "['.ipynb_checkpoints',\n",
       " 'Conditional Statements.ipynb',\n",
       " 'Data Structures',\n",
       " 'Data Types.ipynb',\n",
       " 'Loops',\n",
       " 'Operators.ipynb',\n",
       " 'OS.ipynb']"
      ]
     },
     "execution_count": 8,
     "metadata": {},
     "output_type": "execute_result"
    }
   ],
   "source": [
    "dir1=os.listdir(\"F:\\ETG_INTERNSHIP\")\n",
    "dir1"
   ]
  },
  {
   "cell_type": "code",
   "execution_count": 9,
   "id": "e711ba0d",
   "metadata": {},
   "outputs": [
    {
     "name": "stdout",
     "output_type": "stream",
     "text": [
      "C:\\Users\\vansh\n"
     ]
    }
   ],
   "source": [
    "cd"
   ]
  },
  {
   "cell_type": "code",
   "execution_count": 11,
   "id": "c8c7c93a",
   "metadata": {},
   "outputs": [
    {
     "name": "stdout",
     "output_type": "stream",
     "text": [
      "Conditional Statements.ipynb\n",
      "Data Types.ipynb\n",
      "Operators.ipynb\n",
      "OS.ipynb\n"
     ]
    }
   ],
   "source": [
    "#all the files ending with ipynb\n",
    "\n",
    "for i in dir1:\n",
    "    if i[-5:]=='ipynb':\n",
    "        print(i)\n",
    "    else:\n",
    "        pass"
   ]
  },
  {
   "cell_type": "code",
   "execution_count": 26,
   "id": "2cb0c893",
   "metadata": {},
   "outputs": [],
   "source": [
    "mp4=[]\n",
    "jpg=[]\n",
    "\n",
    "dir2=os.listdir(\"F:\\my phone\");\n",
    "\n",
    "for i in dir2:\n",
    "    if i[-3:]=='mp4':\n",
    "        mp4.append(i)\n",
    "        \n",
    "    elif i[-3:]=='jpg':\n",
    "        jpg.append(i)\n",
    "        \n",
    "    else:\n",
    "        pass"
   ]
  },
  {
   "cell_type": "code",
   "execution_count": 24,
   "id": "bf7baa55",
   "metadata": {},
   "outputs": [
    {
     "data": {
      "text/plain": [
       "['bluetooth',\n",
       " 'Camera',\n",
       " 'Canva',\n",
       " 'Creative',\n",
       " 'documents',\n",
       " 'Download',\n",
       " 'Facebook',\n",
       " 'IMG_20210202_152104_Bokeh.jpg',\n",
       " 'IMG_20210202_152112_Bokeh.jpg',\n",
       " 'IMG_20210202_152538.jpg',\n",
       " 'IMG_20210202_152542.jpg',\n",
       " 'IMG_20210202_152553.jpg',\n",
       " 'IMG_20210202_153857.jpg',\n",
       " 'inshot',\n",
       " 'Pictures',\n",
       " 'VID-20171014-WA0008.mp4',\n",
       " 'XiaoYing',\n",
       " 'YouCam Perfect']"
      ]
     },
     "execution_count": 24,
     "metadata": {},
     "output_type": "execute_result"
    }
   ],
   "source": [
    "dir2"
   ]
  },
  {
   "cell_type": "code",
   "execution_count": 27,
   "id": "bc677d60",
   "metadata": {},
   "outputs": [
    {
     "data": {
      "text/plain": [
       "['VID-20171014-WA0008.mp4']"
      ]
     },
     "execution_count": 27,
     "metadata": {},
     "output_type": "execute_result"
    }
   ],
   "source": [
    "mp4"
   ]
  },
  {
   "cell_type": "code",
   "execution_count": 28,
   "id": "67c19e81",
   "metadata": {},
   "outputs": [
    {
     "data": {
      "text/plain": [
       "['IMG_20210202_152104_Bokeh.jpg',\n",
       " 'IMG_20210202_152112_Bokeh.jpg',\n",
       " 'IMG_20210202_152538.jpg',\n",
       " 'IMG_20210202_152542.jpg',\n",
       " 'IMG_20210202_152553.jpg',\n",
       " 'IMG_20210202_153857.jpg']"
      ]
     },
     "execution_count": 28,
     "metadata": {},
     "output_type": "execute_result"
    }
   ],
   "source": [
    "jpg"
   ]
  },
  {
   "cell_type": "code",
   "execution_count": 2,
   "id": "53997494",
   "metadata": {},
   "outputs": [
    {
     "name": "stdout",
     "output_type": "stream",
     "text": [
      "The syntax of the command is incorrect.\n"
     ]
    }
   ],
   "source": [
    "!copy OS.ipynb NEW/OS.ipynb"
   ]
  },
  {
   "cell_type": "code",
   "execution_count": 3,
   "id": "df063ff7",
   "metadata": {},
   "outputs": [],
   "source": [
    "import shutil\n",
    "import os"
   ]
  },
  {
   "cell_type": "code",
   "execution_count": 5,
   "id": "dde4c65e",
   "metadata": {},
   "outputs": [
    {
     "ename": "SyntaxError",
     "evalue": "invalid syntax (<ipython-input-5-5f971ec28cc6>, line 1)",
     "output_type": "error",
     "traceback": [
      "\u001b[1;36m  File \u001b[1;32m\"<ipython-input-5-5f971ec28cc6>\"\u001b[1;36m, line \u001b[1;32m1\u001b[0m\n\u001b[1;33m    f=operating system.ipynb\u001b[0m\n\u001b[1;37m                ^\u001b[0m\n\u001b[1;31mSyntaxError\u001b[0m\u001b[1;31m:\u001b[0m invalid syntax\n"
     ]
    }
   ],
   "source": [
    "f=operatingsystem.ipynb\n",
    "shutil.copy(f, 'NEW')"
   ]
  },
  {
   "cell_type": "code",
   "execution_count": null,
   "id": "9a2078ea",
   "metadata": {},
   "outputs": [],
   "source": []
  }
 ],
 "metadata": {
  "kernelspec": {
   "display_name": "Python 3",
   "language": "python",
   "name": "python3"
  },
  "language_info": {
   "codemirror_mode": {
    "name": "ipython",
    "version": 3
   },
   "file_extension": ".py",
   "mimetype": "text/x-python",
   "name": "python",
   "nbconvert_exporter": "python",
   "pygments_lexer": "ipython3",
   "version": "3.8.8"
  }
 },
 "nbformat": 4,
 "nbformat_minor": 5
}
