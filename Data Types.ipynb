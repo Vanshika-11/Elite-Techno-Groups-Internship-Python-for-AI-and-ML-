{
 "cells": [
  {
   "cell_type": "markdown",
   "id": "d461da64",
   "metadata": {},
   "source": [
    "## String"
   ]
  },
  {
   "cell_type": "code",
   "execution_count": 1,
   "id": "73d8dd69",
   "metadata": {},
   "outputs": [
    {
     "data": {
      "text/plain": [
       "'Hello World'"
      ]
     },
     "execution_count": 1,
     "metadata": {},
     "output_type": "execute_result"
    }
   ],
   "source": [
    "\"Hello World\""
   ]
  },
  {
   "cell_type": "code",
   "execution_count": 2,
   "id": "5b07bff2",
   "metadata": {},
   "outputs": [
    {
     "data": {
      "text/plain": [
       "'Hello world'"
      ]
     },
     "execution_count": 2,
     "metadata": {},
     "output_type": "execute_result"
    }
   ],
   "source": [
    "'Hello world'"
   ]
  },
  {
   "cell_type": "code",
   "execution_count": 3,
   "id": "f1e4b312",
   "metadata": {},
   "outputs": [
    {
     "data": {
      "text/plain": [
       "'123'"
      ]
     },
     "execution_count": 3,
     "metadata": {},
     "output_type": "execute_result"
    }
   ],
   "source": [
    "'123'"
   ]
  },
  {
   "cell_type": "code",
   "execution_count": 4,
   "id": "2bd9362a",
   "metadata": {},
   "outputs": [
    {
     "data": {
      "text/plain": [
       "str"
      ]
     },
     "execution_count": 4,
     "metadata": {},
     "output_type": "execute_result"
    }
   ],
   "source": [
    "type('123')"
   ]
  },
  {
   "cell_type": "code",
   "execution_count": 9,
   "id": "622e9833",
   "metadata": {},
   "outputs": [],
   "source": [
    "first_name = \"Vanshika\"\n",
    "last_name = \"Sabhani\""
   ]
  },
  {
   "cell_type": "code",
   "execution_count": 10,
   "id": "ecebe6a9",
   "metadata": {},
   "outputs": [],
   "source": [
    "full_name= first_name+ \" \" + last_name"
   ]
  },
  {
   "cell_type": "code",
   "execution_count": 11,
   "id": "b8f183df",
   "metadata": {},
   "outputs": [
    {
     "name": "stdout",
     "output_type": "stream",
     "text": [
      "Vanshika Sabhani\n"
     ]
    },
    {
     "data": {
      "text/plain": [
       "str"
      ]
     },
     "execution_count": 11,
     "metadata": {},
     "output_type": "execute_result"
    }
   ],
   "source": [
    "print(full_name)\n",
    "type(full_name)"
   ]
  },
  {
   "cell_type": "code",
   "execution_count": 12,
   "id": "3e2345f4",
   "metadata": {},
   "outputs": [
    {
     "data": {
      "text/plain": [
       "'Vanshika Sabhani'"
      ]
     },
     "execution_count": 12,
     "metadata": {},
     "output_type": "execute_result"
    }
   ],
   "source": [
    "full_name[:]"
   ]
  },
  {
   "cell_type": "code",
   "execution_count": 13,
   "id": "1e5e80c8",
   "metadata": {},
   "outputs": [
    {
     "data": {
      "text/plain": [
       "'a'"
      ]
     },
     "execution_count": 13,
     "metadata": {},
     "output_type": "execute_result"
    }
   ],
   "source": [
    "full_name[1]"
   ]
  },
  {
   "cell_type": "code",
   "execution_count": 14,
   "id": "a078b985",
   "metadata": {},
   "outputs": [
    {
     "data": {
      "text/plain": [
       "'anshika Sabhani'"
      ]
     },
     "execution_count": 14,
     "metadata": {},
     "output_type": "execute_result"
    }
   ],
   "source": [
    "full_name[1:]"
   ]
  },
  {
   "cell_type": "code",
   "execution_count": 15,
   "id": "0999394e",
   "metadata": {},
   "outputs": [
    {
     "data": {
      "text/plain": [
       "'i'"
      ]
     },
     "execution_count": 15,
     "metadata": {},
     "output_type": "execute_result"
    }
   ],
   "source": [
    "full_name[-1]"
   ]
  },
  {
   "cell_type": "code",
   "execution_count": 16,
   "id": "7db55cb9",
   "metadata": {},
   "outputs": [
    {
     "data": {
      "text/plain": [
       "'nsh'"
      ]
     },
     "execution_count": 16,
     "metadata": {},
     "output_type": "execute_result"
    }
   ],
   "source": [
    "full_name[2:5]"
   ]
  },
  {
   "cell_type": "code",
   "execution_count": 17,
   "id": "ea74018e",
   "metadata": {},
   "outputs": [
    {
     "data": {
      "text/plain": [
       "16"
      ]
     },
     "execution_count": 17,
     "metadata": {},
     "output_type": "execute_result"
    }
   ],
   "source": [
    "len(full_name)"
   ]
  },
  {
   "cell_type": "code",
   "execution_count": 18,
   "id": "279f3601",
   "metadata": {},
   "outputs": [],
   "source": [
    "string= \"hello world how are you?\"\n"
   ]
  },
  {
   "cell_type": "code",
   "execution_count": 20,
   "id": "744b7ebd",
   "metadata": {},
   "outputs": [
    {
     "data": {
      "text/plain": [
       "['hello', 'world', 'how', 'are', 'you?']"
      ]
     },
     "execution_count": 20,
     "metadata": {},
     "output_type": "execute_result"
    }
   ],
   "source": [
    "string.split(\" \")  #splitting by space"
   ]
  },
  {
   "cell_type": "code",
   "execution_count": 24,
   "id": "0b7f52e4",
   "metadata": {},
   "outputs": [
    {
     "data": {
      "text/plain": [
       "['hello world', ' how are you', ' I am doing great']"
      ]
     },
     "execution_count": 24,
     "metadata": {},
     "output_type": "execute_result"
    }
   ],
   "source": [
    "string1= \"hello world. how are you. I am doing great\"\n",
    "string1.split(\".\")   #splitting by full stop"
   ]
  },
  {
   "cell_type": "code",
   "execution_count": 97,
   "id": "0042e95b",
   "metadata": {},
   "outputs": [
    {
     "data": {
      "text/plain": [
       "'Jangra'"
      ]
     },
     "execution_count": 97,
     "metadata": {},
     "output_type": "execute_result"
    }
   ],
   "source": [
    "string= \"Ashish Jangra\"\n",
    "string[7:13]"
   ]
  },
  {
   "cell_type": "markdown",
   "id": "f4568cb2",
   "metadata": {},
   "source": [
    "## Integer"
   ]
  },
  {
   "cell_type": "code",
   "execution_count": 25,
   "id": "1bec9006",
   "metadata": {},
   "outputs": [
    {
     "data": {
      "text/plain": [
       "int"
      ]
     },
     "execution_count": 25,
     "metadata": {},
     "output_type": "execute_result"
    }
   ],
   "source": [
    "type(123)"
   ]
  },
  {
   "cell_type": "code",
   "execution_count": 26,
   "id": "70b5b55b",
   "metadata": {},
   "outputs": [
    {
     "data": {
      "text/plain": [
       "int"
      ]
     },
     "execution_count": 26,
     "metadata": {},
     "output_type": "execute_result"
    }
   ],
   "source": [
    "type(-123)"
   ]
  },
  {
   "cell_type": "code",
   "execution_count": 27,
   "id": "441d3da8",
   "metadata": {},
   "outputs": [
    {
     "data": {
      "text/plain": [
       "25"
      ]
     },
     "execution_count": 27,
     "metadata": {},
     "output_type": "execute_result"
    }
   ],
   "source": [
    "12 + 13  #addition"
   ]
  },
  {
   "cell_type": "code",
   "execution_count": 29,
   "id": "b20341a7",
   "metadata": {},
   "outputs": [
    {
     "data": {
      "text/plain": [
       "'1214'"
      ]
     },
     "execution_count": 29,
     "metadata": {},
     "output_type": "execute_result"
    }
   ],
   "source": [
    "'12' + '14'  #concatenation"
   ]
  },
  {
   "cell_type": "code",
   "execution_count": 31,
   "id": "e3bd0afa",
   "metadata": {},
   "outputs": [
    {
     "data": {
      "text/plain": [
       "-1"
      ]
     },
     "execution_count": 31,
     "metadata": {},
     "output_type": "execute_result"
    }
   ],
   "source": [
    "12-13"
   ]
  },
  {
   "cell_type": "code",
   "execution_count": 32,
   "id": "9f6092a2",
   "metadata": {},
   "outputs": [
    {
     "data": {
      "text/plain": [
       "4.0"
      ]
     },
     "execution_count": 32,
     "metadata": {},
     "output_type": "execute_result"
    }
   ],
   "source": [
    "12/3  #quotient"
   ]
  },
  {
   "cell_type": "code",
   "execution_count": 33,
   "id": "2e7e2f44",
   "metadata": {},
   "outputs": [
    {
     "data": {
      "text/plain": [
       "2"
      ]
     },
     "execution_count": 33,
     "metadata": {},
     "output_type": "execute_result"
    }
   ],
   "source": [
    "12%5   #modulo"
   ]
  },
  {
   "cell_type": "code",
   "execution_count": 34,
   "id": "0b0b8992",
   "metadata": {},
   "outputs": [
    {
     "data": {
      "text/plain": [
       "60"
      ]
     },
     "execution_count": 34,
     "metadata": {},
     "output_type": "execute_result"
    }
   ],
   "source": [
    "12*5"
   ]
  },
  {
   "cell_type": "code",
   "execution_count": 35,
   "id": "f43ca7ba",
   "metadata": {},
   "outputs": [
    {
     "data": {
      "text/plain": [
       "32"
      ]
     },
     "execution_count": 35,
     "metadata": {},
     "output_type": "execute_result"
    }
   ],
   "source": [
    "2*2*2*2*2"
   ]
  },
  {
   "cell_type": "code",
   "execution_count": 36,
   "id": "00f99255",
   "metadata": {},
   "outputs": [
    {
     "data": {
      "text/plain": [
       "32"
      ]
     },
     "execution_count": 36,
     "metadata": {},
     "output_type": "execute_result"
    }
   ],
   "source": [
    "2**5 #exponent"
   ]
  },
  {
   "cell_type": "code",
   "execution_count": 55,
   "id": "f4e40274",
   "metadata": {},
   "outputs": [],
   "source": [
    "num1=12\n",
    "num2=13                  #aasignment operation"
   ]
  },
  {
   "cell_type": "code",
   "execution_count": 56,
   "id": "0e0bf7de",
   "metadata": {},
   "outputs": [],
   "source": [
    "num3=num1+1\n"
   ]
  },
  {
   "cell_type": "code",
   "execution_count": 57,
   "id": "78384b12",
   "metadata": {},
   "outputs": [
    {
     "data": {
      "text/plain": [
       "12"
      ]
     },
     "execution_count": 57,
     "metadata": {},
     "output_type": "execute_result"
    }
   ],
   "source": [
    "num1"
   ]
  },
  {
   "cell_type": "code",
   "execution_count": 58,
   "id": "4ce0ad68",
   "metadata": {},
   "outputs": [],
   "source": [
    "num1=num1+1           # num1 + = 1"
   ]
  },
  {
   "cell_type": "code",
   "execution_count": 59,
   "id": "c9ced2af",
   "metadata": {},
   "outputs": [
    {
     "data": {
      "text/plain": [
       "13"
      ]
     },
     "execution_count": 59,
     "metadata": {},
     "output_type": "execute_result"
    }
   ],
   "source": [
    "num1"
   ]
  },
  {
   "cell_type": "code",
   "execution_count": 60,
   "id": "4113ec75",
   "metadata": {},
   "outputs": [
    {
     "data": {
      "text/plain": [
       "6.5"
      ]
     },
     "execution_count": 60,
     "metadata": {},
     "output_type": "execute_result"
    }
   ],
   "source": [
    "num1 /= 2\n",
    "num1"
   ]
  },
  {
   "cell_type": "markdown",
   "id": "fb68be90",
   "metadata": {},
   "source": [
    "## FLOAT"
   ]
  },
  {
   "cell_type": "code",
   "execution_count": 61,
   "id": "0e42ec13",
   "metadata": {},
   "outputs": [
    {
     "data": {
      "text/plain": [
       "int"
      ]
     },
     "execution_count": 61,
     "metadata": {},
     "output_type": "execute_result"
    }
   ],
   "source": [
    "type(12)"
   ]
  },
  {
   "cell_type": "code",
   "execution_count": 62,
   "id": "56ff979e",
   "metadata": {},
   "outputs": [
    {
     "data": {
      "text/plain": [
       "float"
      ]
     },
     "execution_count": 62,
     "metadata": {},
     "output_type": "execute_result"
    }
   ],
   "source": [
    "type(12.0)"
   ]
  },
  {
   "cell_type": "code",
   "execution_count": 66,
   "id": "4f17321d",
   "metadata": {},
   "outputs": [
    {
     "data": {
      "text/plain": [
       "3.142857142857143"
      ]
     },
     "execution_count": 66,
     "metadata": {},
     "output_type": "execute_result"
    }
   ],
   "source": [
    "22/7"
   ]
  },
  {
   "cell_type": "code",
   "execution_count": 67,
   "id": "ab6c3322",
   "metadata": {},
   "outputs": [
    {
     "data": {
      "text/plain": [
       "3.142857142857143"
      ]
     },
     "execution_count": 67,
     "metadata": {},
     "output_type": "execute_result"
    }
   ],
   "source": [
    "22/7.0"
   ]
  },
  {
   "cell_type": "code",
   "execution_count": 68,
   "id": "698da4ab",
   "metadata": {},
   "outputs": [
    {
     "data": {
      "text/plain": [
       "3.142857142857143"
      ]
     },
     "execution_count": 68,
     "metadata": {},
     "output_type": "execute_result"
    }
   ],
   "source": [
    "22.0/7.0"
   ]
  },
  {
   "cell_type": "code",
   "execution_count": 69,
   "id": "e816a80e",
   "metadata": {},
   "outputs": [
    {
     "data": {
      "text/plain": [
       "3"
      ]
     },
     "execution_count": 69,
     "metadata": {},
     "output_type": "execute_result"
    }
   ],
   "source": [
    "22//7          #  / gives a floating point result. If you want an integer result, use //.Floor division."
   ]
  },
  {
   "cell_type": "code",
   "execution_count": 70,
   "id": "f0777d33",
   "metadata": {},
   "outputs": [
    {
     "data": {
      "text/plain": [
       "1"
      ]
     },
     "execution_count": 70,
     "metadata": {},
     "output_type": "execute_result"
    }
   ],
   "source": [
    "22%7"
   ]
  },
  {
   "cell_type": "code",
   "execution_count": 71,
   "id": "9d434675",
   "metadata": {},
   "outputs": [
    {
     "data": {
      "text/plain": [
       "1.0"
      ]
     },
     "execution_count": 71,
     "metadata": {},
     "output_type": "execute_result"
    }
   ],
   "source": [
    "22%7.0"
   ]
  },
  {
   "cell_type": "code",
   "execution_count": 72,
   "id": "21fdf5a4",
   "metadata": {},
   "outputs": [
    {
     "data": {
      "text/plain": [
       "55.900000000000006"
      ]
     },
     "execution_count": 72,
     "metadata": {},
     "output_type": "execute_result"
    }
   ],
   "source": [
    "21.3 + 34.6"
   ]
  },
  {
   "cell_type": "code",
   "execution_count": 73,
   "id": "3d286ade",
   "metadata": {},
   "outputs": [
    {
     "data": {
      "text/plain": [
       "-23.900000000000006"
      ]
     },
     "execution_count": 73,
     "metadata": {},
     "output_type": "execute_result"
    }
   ],
   "source": [
    "32.8 - 56.7"
   ]
  },
  {
   "cell_type": "code",
   "execution_count": 74,
   "id": "daceb5f9",
   "metadata": {},
   "outputs": [
    {
     "data": {
      "text/plain": [
       "466.56000000000006"
      ]
     },
     "execution_count": 74,
     "metadata": {},
     "output_type": "execute_result"
    }
   ],
   "source": [
    "21.6 ** 2 "
   ]
  },
  {
   "cell_type": "code",
   "execution_count": 75,
   "id": "32a19c50",
   "metadata": {},
   "outputs": [
    {
     "data": {
      "text/plain": [
       "466.56000000000006"
      ]
     },
     "execution_count": 75,
     "metadata": {},
     "output_type": "execute_result"
    }
   ],
   "source": [
    "21.6 * 21.6"
   ]
  },
  {
   "cell_type": "code",
   "execution_count": 83,
   "id": "953f1336",
   "metadata": {},
   "outputs": [
    {
     "data": {
      "text/plain": [
       "6.5"
      ]
     },
     "execution_count": 83,
     "metadata": {},
     "output_type": "execute_result"
    }
   ],
   "source": [
    "num1"
   ]
  },
  {
   "cell_type": "code",
   "execution_count": 91,
   "id": "c463f0c9",
   "metadata": {},
   "outputs": [],
   "source": [
    "num3 = 5"
   ]
  },
  {
   "cell_type": "code",
   "execution_count": 92,
   "id": "7e326fd2",
   "metadata": {},
   "outputs": [
    {
     "data": {
      "text/plain": [
       "10"
      ]
     },
     "execution_count": 92,
     "metadata": {},
     "output_type": "execute_result"
    }
   ],
   "source": [
    "num3 *= 2\n",
    "num3"
   ]
  },
  {
   "cell_type": "code",
   "execution_count": 93,
   "id": "cf62d129",
   "metadata": {},
   "outputs": [
    {
     "data": {
      "text/plain": [
       "5.0"
      ]
     },
     "execution_count": 93,
     "metadata": {},
     "output_type": "execute_result"
    }
   ],
   "source": [
    "num3 /= 2\n",
    "num3"
   ]
  },
  {
   "cell_type": "markdown",
   "id": "7ffb8bec",
   "metadata": {},
   "source": [
    "## BOOLEAN"
   ]
  },
  {
   "cell_type": "code",
   "execution_count": 76,
   "id": "e3e155ca",
   "metadata": {},
   "outputs": [
    {
     "data": {
      "text/plain": [
       "bool"
      ]
     },
     "execution_count": 76,
     "metadata": {},
     "output_type": "execute_result"
    }
   ],
   "source": [
    "type(True)"
   ]
  },
  {
   "cell_type": "code",
   "execution_count": 77,
   "id": "022ba250",
   "metadata": {},
   "outputs": [
    {
     "data": {
      "text/plain": [
       "bool"
      ]
     },
     "execution_count": 77,
     "metadata": {},
     "output_type": "execute_result"
    }
   ],
   "source": [
    "type(False)"
   ]
  },
  {
   "cell_type": "code",
   "execution_count": 78,
   "id": "af03b5ed",
   "metadata": {},
   "outputs": [
    {
     "data": {
      "text/plain": [
       "True"
      ]
     },
     "execution_count": 78,
     "metadata": {},
     "output_type": "execute_result"
    }
   ],
   "source": [
    "True == 1   # comparison operator"
   ]
  },
  {
   "cell_type": "code",
   "execution_count": 79,
   "id": "42e40fdf",
   "metadata": {},
   "outputs": [
    {
     "data": {
      "text/plain": [
       "True"
      ]
     },
     "execution_count": 79,
     "metadata": {},
     "output_type": "execute_result"
    }
   ],
   "source": [
    "False == 0 "
   ]
  },
  {
   "cell_type": "code",
   "execution_count": 80,
   "id": "fb71958b",
   "metadata": {},
   "outputs": [
    {
     "data": {
      "text/plain": [
       "True"
      ]
     },
     "execution_count": 80,
     "metadata": {},
     "output_type": "execute_result"
    }
   ],
   "source": [
    "1 == 1"
   ]
  },
  {
   "cell_type": "code",
   "execution_count": 81,
   "id": "ef7ff1a5",
   "metadata": {},
   "outputs": [
    {
     "data": {
      "text/plain": [
       "False"
      ]
     },
     "execution_count": 81,
     "metadata": {},
     "output_type": "execute_result"
    }
   ],
   "source": [
    "1 == 2"
   ]
  },
  {
   "cell_type": "code",
   "execution_count": 82,
   "id": "a6e953ab",
   "metadata": {},
   "outputs": [
    {
     "data": {
      "text/plain": [
       "True"
      ]
     },
     "execution_count": 82,
     "metadata": {},
     "output_type": "execute_result"
    }
   ],
   "source": [
    "1 == 1.0"
   ]
  },
  {
   "cell_type": "code",
   "execution_count": null,
   "id": "a0e4ab49",
   "metadata": {},
   "outputs": [],
   "source": []
  }
 ],
 "metadata": {
  "kernelspec": {
   "display_name": "Python 3",
   "language": "python",
   "name": "python3"
  },
  "language_info": {
   "codemirror_mode": {
    "name": "ipython",
    "version": 3
   },
   "file_extension": ".py",
   "mimetype": "text/x-python",
   "name": "python",
   "nbconvert_exporter": "python",
   "pygments_lexer": "ipython3",
   "version": "3.8.8"
  }
 },
 "nbformat": 4,
 "nbformat_minor": 5
}
