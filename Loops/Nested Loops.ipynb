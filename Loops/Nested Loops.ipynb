{
 "cells": [
  {
   "cell_type": "code",
   "execution_count": 1,
   "id": "94c76067",
   "metadata": {},
   "outputs": [],
   "source": [
    "data= [['Rahul','Rohan','Rashmi'],       #students\n",
    "       [82, 89, 78],                     #English\n",
    "       [56, 42, 21],                     #Maths\n",
    "       [49, 52, 90]]                     #OS"
   ]
  },
  {
   "cell_type": "code",
   "execution_count": 2,
   "id": "09159ce6",
   "metadata": {},
   "outputs": [
    {
     "name": "stdout",
     "output_type": "stream",
     "text": [
      "['Rahul', 'Rohan', 'Rashmi']\n",
      "[82, 89, 78]\n",
      "[56, 42, 21]\n",
      "[49, 52, 90]\n"
     ]
    }
   ],
   "source": [
    "for i in data:\n",
    "    print(i)"
   ]
  },
  {
   "cell_type": "code",
   "execution_count": 3,
   "id": "0b3cfb9c",
   "metadata": {},
   "outputs": [
    {
     "data": {
      "text/plain": [
       "'Rahul'"
      ]
     },
     "execution_count": 3,
     "metadata": {},
     "output_type": "execute_result"
    }
   ],
   "source": [
    "data[0][0]"
   ]
  },
  {
   "cell_type": "code",
   "execution_count": 4,
   "id": "dea72934",
   "metadata": {},
   "outputs": [
    {
     "name": "stdout",
     "output_type": "stream",
     "text": [
      "Rahul\n",
      "82\n",
      "56\n",
      "49\n"
     ]
    }
   ],
   "source": [
    "for i in data:\n",
    "    print(i[0])         #Rahul's marks"
   ]
  },
  {
   "cell_type": "code",
   "execution_count": 5,
   "id": "abf3e8d1",
   "metadata": {},
   "outputs": [
    {
     "name": "stdout",
     "output_type": "stream",
     "text": [
      "['Rahul', 'Rohan', 'Rashmi']\n",
      "Rahul\n",
      "Rohan\n",
      "Rashmi\n",
      "[82, 89, 78]\n",
      "82\n",
      "89\n",
      "78\n",
      "[56, 42, 21]\n",
      "56\n",
      "42\n",
      "21\n",
      "[49, 52, 90]\n",
      "49\n",
      "52\n",
      "90\n"
     ]
    }
   ],
   "source": [
    "for i in data:\n",
    "    print(i)\n",
    "    for j in i:\n",
    "        print(j)"
   ]
  },
  {
   "cell_type": "code",
   "execution_count": 6,
   "id": "39b58ec2",
   "metadata": {},
   "outputs": [
    {
     "name": "stdout",
     "output_type": "stream",
     "text": [
      "Rahul\n",
      "Rohan\n",
      "Rashmi\n",
      "82\n",
      "89\n",
      "78\n",
      "56\n",
      "42\n",
      "21\n",
      "49\n",
      "52\n",
      "90\n"
     ]
    }
   ],
   "source": [
    "for i in data:\n",
    "    for j in i:\n",
    "        print(j)"
   ]
  },
  {
   "cell_type": "code",
   "execution_count": null,
   "id": "7bc65f26",
   "metadata": {},
   "outputs": [],
   "source": []
  }
 ],
 "metadata": {
  "kernelspec": {
   "display_name": "Python 3",
   "language": "python",
   "name": "python3"
  },
  "language_info": {
   "codemirror_mode": {
    "name": "ipython",
    "version": 3
   },
   "file_extension": ".py",
   "mimetype": "text/x-python",
   "name": "python",
   "nbconvert_exporter": "python",
   "pygments_lexer": "ipython3",
   "version": "3.8.8"
  }
 },
 "nbformat": 4,
 "nbformat_minor": 5
}
